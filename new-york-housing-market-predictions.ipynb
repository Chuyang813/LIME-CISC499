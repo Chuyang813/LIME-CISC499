{
 "cells": [
  {
   "cell_type": "code",
   "execution_count": null,
   "id": "eede6fb8",
   "metadata": {
    "_cell_guid": "b1076dfc-b9ad-4769-8c92-a6c4dae69d19",
    "_uuid": "8f2839f25d086af736a60e9eeb907d3b93b6e0e5",
    "execution": {
     "iopub.execute_input": "2024-01-09T23:28:55.475731Z",
     "iopub.status.busy": "2024-01-09T23:28:55.474984Z",
     "iopub.status.idle": "2024-01-09T23:28:57.589858Z",
     "shell.execute_reply": "2024-01-09T23:28:57.588684Z"
    },
    "papermill": {
     "duration": 2.125777,
     "end_time": "2024-01-09T23:28:57.592492",
     "exception": false,
     "start_time": "2024-01-09T23:28:55.466715",
     "status": "completed"
    },
    "tags": []
   },
   "outputs": [],
   "source": [
    "# This Python 3 environment comes with many helpful analytics libraries installed\n",
    "# It is defined by the kaggle/python Docker image: https://github.com/kaggle/docker-python\n",
    "# For example, here's several helpful packages to load\n",
    "\n",
    "import numpy as np # linear algebra\n",
    "import pandas as pd # data processing, CSV file I/O (e.g. pd.read_csv)\n",
    "from sklearn.preprocessing import LabelEncoder\n",
    "\n",
    "# Input data files are available in the read-only \"../input/\" directory\n",
    "# For example, running this (by clicking run or pressing Shift+Enter) will list all files under the input directory\n",
    "\n",
    "import os\n",
    "for dirname, _, filenames in os.walk('/kaggle/input'):\n",
    "    for filename in filenames:\n",
    "        print(os.path.join(dirname, filename))\n",
    "\n",
    "# You can write up to 20GB to the current directory (/kaggle/working/) that gets preserved as output when you create a version using \"Save & Run All\" \n",
    "# You can also write temporary files to /kaggle/temp/, but they won't be saved outside of the current session"
   ]
  },
  {
   "cell_type": "code",
   "execution_count": null,
   "id": "d058d3cd",
   "metadata": {},
   "outputs": [],
   "source": [
    "from lime.lime_tabular import LimeTabularExplainer"
   ]
  },
  {
   "cell_type": "code",
   "execution_count": null,
   "id": "66af9c33",
   "metadata": {
    "execution": {
     "iopub.execute_input": "2024-01-09T23:28:57.606971Z",
     "iopub.status.busy": "2024-01-09T23:28:57.605673Z",
     "iopub.status.idle": "2024-01-09T23:28:57.708534Z",
     "shell.execute_reply": "2024-01-09T23:28:57.707279Z"
    },
    "papermill": {
     "duration": 0.112683,
     "end_time": "2024-01-09T23:28:57.711167",
     "exception": false,
     "start_time": "2024-01-09T23:28:57.598484",
     "status": "completed"
    },
    "tags": []
   },
   "outputs": [],
   "source": [
    "df = pd.read_csv('NY-House-Dataset.csv')\n",
    "df"
   ]
  },
  {
   "cell_type": "code",
   "execution_count": null,
   "id": "3e549045",
   "metadata": {
    "execution": {
     "iopub.execute_input": "2024-01-09T23:28:57.726124Z",
     "iopub.status.busy": "2024-01-09T23:28:57.724902Z",
     "iopub.status.idle": "2024-01-09T23:28:57.751192Z",
     "shell.execute_reply": "2024-01-09T23:28:57.750020Z"
    },
    "papermill": {
     "duration": 0.036122,
     "end_time": "2024-01-09T23:28:57.753515",
     "exception": false,
     "start_time": "2024-01-09T23:28:57.717393",
     "status": "completed"
    },
    "tags": []
   },
   "outputs": [],
   "source": [
    "\n",
    "# Counting the number of distinct values in each column of the DataFrame\n",
    "distinct_value_counts = {col: df[col].nunique() for col in df.columns}\n",
    "distinct_value_counts"
   ]
  },
  {
   "cell_type": "code",
   "execution_count": null,
   "id": "89e58862",
   "metadata": {
    "execution": {
     "iopub.execute_input": "2024-01-09T23:28:57.768745Z",
     "iopub.status.busy": "2024-01-09T23:28:57.767621Z",
     "iopub.status.idle": "2024-01-09T23:28:57.802551Z",
     "shell.execute_reply": "2024-01-09T23:28:57.801496Z"
    },
    "papermill": {
     "duration": 0.045463,
     "end_time": "2024-01-09T23:28:57.805493",
     "exception": false,
     "start_time": "2024-01-09T23:28:57.760030",
     "status": "completed"
    },
    "tags": []
   },
   "outputs": [],
   "source": [
    "unique_value_counts = {col: df[col].value_counts().head() for col in df.columns}\n",
    "unique_value_counts"
   ]
  },
  {
   "cell_type": "code",
   "execution_count": null,
   "id": "3d7569c5",
   "metadata": {
    "execution": {
     "iopub.execute_input": "2024-01-09T23:28:57.821724Z",
     "iopub.status.busy": "2024-01-09T23:28:57.820714Z",
     "iopub.status.idle": "2024-01-09T23:28:57.838876Z",
     "shell.execute_reply": "2024-01-09T23:28:57.837825Z"
    },
    "papermill": {
     "duration": 0.029013,
     "end_time": "2024-01-09T23:28:57.841614",
     "exception": false,
     "start_time": "2024-01-09T23:28:57.812601",
     "status": "completed"
    },
    "tags": []
   },
   "outputs": [],
   "source": [
    "from sklearn.preprocessing import StandardScaler\n",
    "\n",
    "scaler = StandardScaler()\n",
    "df['PRICE_standardized'] = scaler.fit_transform(df[['PRICE']])\n",
    "sorted_df = df.sort_values(by='PRICE_standardized', ascending=False)\n",
    "sorted_df = sorted_df[2:]\n",
    "df = df.drop('BROKERTITLE', axis=1)"
   ]
  },
  {
   "cell_type": "code",
   "execution_count": null,
   "id": "ac76b5ec",
   "metadata": {
    "execution": {
     "iopub.execute_input": "2024-01-09T23:28:57.857532Z",
     "iopub.status.busy": "2024-01-09T23:28:57.856776Z",
     "iopub.status.idle": "2024-01-09T23:28:57.877629Z",
     "shell.execute_reply": "2024-01-09T23:28:57.876525Z"
    },
    "papermill": {
     "duration": 0.031541,
     "end_time": "2024-01-09T23:28:57.880228",
     "exception": false,
     "start_time": "2024-01-09T23:28:57.848687",
     "status": "completed"
    },
    "tags": []
   },
   "outputs": [],
   "source": [
    "sorted_df.head()"
   ]
  },
  {
   "cell_type": "code",
   "execution_count": null,
   "id": "219f9de3",
   "metadata": {
    "execution": {
     "iopub.execute_input": "2024-01-09T23:28:57.897010Z",
     "iopub.status.busy": "2024-01-09T23:28:57.896236Z",
     "iopub.status.idle": "2024-01-09T23:28:58.582301Z",
     "shell.execute_reply": "2024-01-09T23:28:58.580357Z"
    },
    "papermill": {
     "duration": 0.70004,
     "end_time": "2024-01-09T23:28:58.587280",
     "exception": false,
     "start_time": "2024-01-09T23:28:57.887240",
     "status": "completed"
    },
    "tags": []
   },
   "outputs": [],
   "source": [
    "import matplotlib.pyplot as plt\n",
    "\n",
    "grouped = sorted_df.groupby('SUBLOCALITY')\n",
    "\n",
    "# Plotting\n",
    "fig, ax = plt.subplots(figsize=(10, 6))\n",
    "\n",
    "# Create a list for x-tick labels\n",
    "xticklabels = []\n",
    "positions = []\n",
    "\n",
    "for i, (name, group) in enumerate(grouped):\n",
    "    # Adjust the 'whis' parameter here, e.g., 1.0, 1.5, etc.\n",
    "    ax.boxplot(group['PRICE_standardized'], positions=[i], whis=1.5)\n",
    "\n",
    "    xticklabels.append(name)\n",
    "    positions.append(i)\n",
    "\n",
    "# Set x-axis label\n",
    "ax.set_xlabel('SUBLOCALITY')\n",
    "\n",
    "# Set y-axis label\n",
    "ax.set_ylabel('PRICE')\n",
    "\n",
    "# Set x-tick labels\n",
    "ax.set_xticks(positions)\n",
    "ax.set_xticklabels(xticklabels, rotation=45)  # Rotate for better readability if needed\n",
    "\n",
    "# Set title\n",
    "ax.set_title('Boxplot of Prices for Each Sublocality (Adjusted for Outliers)')\n",
    "\n",
    "# Show plot\n",
    "plt.show()"
   ]
  },
  {
   "cell_type": "code",
   "execution_count": null,
   "id": "0d65df82",
   "metadata": {
    "execution": {
     "iopub.execute_input": "2024-01-09T23:28:58.608127Z",
     "iopub.status.busy": "2024-01-09T23:28:58.607408Z",
     "iopub.status.idle": "2024-01-09T23:28:59.740612Z",
     "shell.execute_reply": "2024-01-09T23:28:59.738978Z"
    },
    "papermill": {
     "duration": 1.148766,
     "end_time": "2024-01-09T23:28:59.744526",
     "exception": false,
     "start_time": "2024-01-09T23:28:58.595760",
     "status": "completed"
    },
    "tags": []
   },
   "outputs": [],
   "source": [
    "import seaborn as sns\n",
    "\n",
    "average_prices = df.groupby('SUBLOCALITY')['PRICE'].mean()\n",
    "\n",
    "# Using seaborn's style\n",
    "sns.set(style=\"whitegrid\")\n",
    "\n",
    "# Plotting the average prices\n",
    "plt.figure(figsize=(10, 6))\n",
    "barplot = sns.barplot(x=average_prices.index, y=average_prices.values, palette=\"viridis\")\n",
    "\n",
    "# Adding labels and title with more customization\n",
    "plt.xlabel('Sublocality', fontsize=14, fontweight='bold', color='navy')\n",
    "plt.ylabel('Average Price', fontsize=14, fontweight='bold', color='navy')\n",
    "plt.title('Average Prices by Sublocality', fontsize=16, fontweight='bold', color='darkred')\n",
    "\n",
    "# Customizing ticks for readability\n",
    "plt.xticks(fontsize=12, fontweight='bold', rotation=90)\n",
    "plt.yticks(fontsize=12, fontweight='bold')\n",
    "\n",
    "# Adding value labels on top of each bar\n",
    "for p in barplot.patches:\n",
    "    barplot.annotate(format(p.get_height(), '.2f'), \n",
    "                     (p.get_x() + p.get_width() / 2., p.get_height()), \n",
    "                     ha = 'center', va = 'center', \n",
    "                     xytext = (0, 9), \n",
    "                     textcoords = 'offset points',\n",
    "                     fontsize=12)\n",
    "\n",
    "# Show plot\n",
    "plt.tight_layout()\n",
    "plt.show()"
   ]
  },
  {
   "cell_type": "code",
   "execution_count": null,
   "id": "70df38c6",
   "metadata": {
    "execution": {
     "iopub.execute_input": "2024-01-09T23:28:59.767260Z",
     "iopub.status.busy": "2024-01-09T23:28:59.766821Z",
     "iopub.status.idle": "2024-01-09T23:29:00.191938Z",
     "shell.execute_reply": "2024-01-09T23:29:00.190827Z"
    },
    "papermill": {
     "duration": 0.439694,
     "end_time": "2024-01-09T23:29:00.194501",
     "exception": false,
     "start_time": "2024-01-09T23:28:59.754807",
     "status": "completed"
    },
    "tags": []
   },
   "outputs": [],
   "source": [
    "from sklearn.model_selection import train_test_split\n",
    "from sklearn.ensemble import RandomForestClassifier\n",
    "from sklearn.metrics import accuracy_score, confusion_matrix\n",
    "label_encoder = LabelEncoder()\n",
    "df['SUBLOCALITY_encoded'] = label_encoder.fit_transform(df['SUBLOCALITY'])\n",
    "df\n",
    "# Selecting the features (X) and the target (Y)\n",
    "X = df[['SUBLOCALITY_encoded', 'PRICE', 'BEDS', 'BATH']]\n",
    "Y = df['TYPE']\n",
    "\n",
    "df.drop('PRICE', axis=1)"
   ]
  },
  {
   "cell_type": "code",
   "execution_count": null,
   "id": "3eefb557",
   "metadata": {
    "execution": {
     "iopub.execute_input": "2024-01-09T23:29:00.218133Z",
     "iopub.status.busy": "2024-01-09T23:29:00.217686Z",
     "iopub.status.idle": "2024-01-09T23:29:00.226530Z",
     "shell.execute_reply": "2024-01-09T23:29:00.225467Z"
    },
    "papermill": {
     "duration": 0.023849,
     "end_time": "2024-01-09T23:29:00.229336",
     "exception": false,
     "start_time": "2024-01-09T23:29:00.205487",
     "status": "completed"
    },
    "tags": []
   },
   "outputs": [],
   "source": [
    "Y.value_counts()"
   ]
  },
  {
   "cell_type": "code",
   "execution_count": null,
   "id": "b34c2e21",
   "metadata": {
    "execution": {
     "iopub.execute_input": "2024-01-09T23:29:00.253531Z",
     "iopub.status.busy": "2024-01-09T23:29:00.253090Z",
     "iopub.status.idle": "2024-01-09T23:29:00.265062Z",
     "shell.execute_reply": "2024-01-09T23:29:00.263914Z"
    },
    "papermill": {
     "duration": 0.026912,
     "end_time": "2024-01-09T23:29:00.267564",
     "exception": false,
     "start_time": "2024-01-09T23:29:00.240652",
     "status": "completed"
    },
    "tags": []
   },
   "outputs": [],
   "source": [
    "X.head()"
   ]
  },
  {
   "cell_type": "code",
   "execution_count": null,
   "id": "9d38ac30",
   "metadata": {
    "execution": {
     "iopub.execute_input": "2024-01-09T23:29:00.292597Z",
     "iopub.status.busy": "2024-01-09T23:29:00.291794Z",
     "iopub.status.idle": "2024-01-09T23:29:00.299070Z",
     "shell.execute_reply": "2024-01-09T23:29:00.298129Z"
    },
    "papermill": {
     "duration": 0.02245,
     "end_time": "2024-01-09T23:29:00.301452",
     "exception": false,
     "start_time": "2024-01-09T23:29:00.279002",
     "status": "completed"
    },
    "tags": []
   },
   "outputs": [],
   "source": [
    "X_train, X_test, Y_train, Y_test = train_test_split(X, Y, test_size=0.2, random_state=42)\n"
   ]
  },
  {
   "cell_type": "code",
   "execution_count": null,
   "id": "feeaf4e5",
   "metadata": {
    "execution": {
     "iopub.execute_input": "2024-01-09T23:29:00.327659Z",
     "iopub.status.busy": "2024-01-09T23:29:00.326716Z",
     "iopub.status.idle": "2024-01-09T23:29:01.826333Z",
     "shell.execute_reply": "2024-01-09T23:29:01.824673Z"
    },
    "papermill": {
     "duration": 1.515238,
     "end_time": "2024-01-09T23:29:01.829003",
     "exception": false,
     "start_time": "2024-01-09T23:29:00.313765",
     "status": "completed"
    },
    "tags": []
   },
   "outputs": [],
   "source": [
    "# Initialize the classifier\n",
    "clf = RandomForestClassifier(random_state=42)\n",
    "\n",
    "# Train the classifier\n",
    "clf.fit(X_train, Y_train)\n",
    "\n",
    "# Make predictions on the test set\n",
    "Y_pred = clf.predict(X_test)\n",
    "\n",
    "# Calculate the accuracy\n",
    "accuracy = accuracy_score(Y_test, Y_pred)\n",
    "print(f\"Accuracy: {accuracy}\")\n",
    "\n",
    "# Confusion matrix\n",
    "conf_matrix = confusion_matrix(Y_test, Y_pred)\n",
    "\n",
    "# Plotting the confusion matrix\n",
    "plt.figure(figsize=(8, 6))\n",
    "sns.heatmap(conf_matrix, annot=True, fmt='g')\n",
    "plt.title('Confusion Matrix')\n",
    "plt.ylabel('True Label')\n",
    "plt.xlabel('Predicted Label')\n",
    "plt.show()"
   ]
  },
  {
   "cell_type": "code",
   "execution_count": null,
   "id": "da34697c",
   "metadata": {
    "execution": {
     "iopub.execute_input": "2024-01-09T23:29:01.855502Z",
     "iopub.status.busy": "2024-01-09T23:29:01.855101Z",
     "iopub.status.idle": "2024-01-09T23:29:01.862793Z",
     "shell.execute_reply": "2024-01-09T23:29:01.861600Z"
    },
    "papermill": {
     "duration": 0.023752,
     "end_time": "2024-01-09T23:29:01.865220",
     "exception": false,
     "start_time": "2024-01-09T23:29:01.841468",
     "status": "completed"
    },
    "tags": []
   },
   "outputs": [],
   "source": [
    "df.columns"
   ]
  },
  {
   "cell_type": "code",
   "execution_count": null,
   "id": "6a035fb3",
   "metadata": {
    "execution": {
     "iopub.execute_input": "2024-01-09T23:29:01.892990Z",
     "iopub.status.busy": "2024-01-09T23:29:01.892587Z",
     "iopub.status.idle": "2024-01-09T23:29:01.918020Z",
     "shell.execute_reply": "2024-01-09T23:29:01.916674Z"
    },
    "papermill": {
     "duration": 0.042107,
     "end_time": "2024-01-09T23:29:01.920645",
     "exception": false,
     "start_time": "2024-01-09T23:29:01.878538",
     "status": "completed"
    },
    "tags": []
   },
   "outputs": [],
   "source": [
    "columns_to_remove = ['ADDRESS', 'STATE', 'MAIN_ADDRESS', 'STREET_NAME', 'LONG_NAME', 'FORMATTED_ADDRESS','PRICE_standardized','LATITUDE','LONGITUDE','SUBLOCALITY_encoded']\n",
    "df_predict_price = df.drop(columns=columns_to_remove)\n",
    "categorical_columns = ['ADMINISTRATIVE_AREA_LEVEL_2', 'LOCALITY', 'SUBLOCALITY', 'TYPE']\n",
    "\n",
    "label_encoder = LabelEncoder()\n",
    "for col in categorical_columns:\n",
    "    df_predict_price[col] = label_encoder.fit_transform(df_predict_price[col])\n",
    "\n",
    "\n",
    "\n",
    "df_predict_price.head()"
   ]
  },
  {
   "cell_type": "code",
   "execution_count": null,
   "id": "9e6f8d24",
   "metadata": {
    "execution": {
     "iopub.execute_input": "2024-01-09T23:29:01.950641Z",
     "iopub.status.busy": "2024-01-09T23:29:01.950218Z",
     "iopub.status.idle": "2024-01-09T23:29:02.858653Z",
     "shell.execute_reply": "2024-01-09T23:29:02.857567Z"
    },
    "papermill": {
     "duration": 0.9282,
     "end_time": "2024-01-09T23:29:02.862186",
     "exception": false,
     "start_time": "2024-01-09T23:29:01.933986",
     "status": "completed"
    },
    "tags": []
   },
   "outputs": [],
   "source": [
    "from sklearn.ensemble import RandomForestRegressor\n",
    "from sklearn.metrics import mean_absolute_error, mean_squared_error, r2_score\n",
    "\n",
    "# Splitting the data into features (X) and target variable (y)\n",
    "X = df_predict_price.drop('PRICE', axis=1)\n",
    "y = df_predict_price['PRICE']\n",
    "\n",
    "# Splitting the data into training and test sets\n",
    "X_train, X_test, y_train, y_test = train_test_split(X, y, test_size=0.2, random_state=42)\n",
    "\n",
    "# Initialize the Random Forest Regressor\n",
    "regressor = RandomForestRegressor(random_state=42)\n",
    "\n",
    "# Train the model\n",
    "regressor.fit(X_train, y_train)\n",
    "\n",
    "# Predict on the test set\n",
    "y_pred = regressor.predict(X_test)\n",
    "\n",
    "# Evaluate the model\n",
    "mae = mean_absolute_error(y_test, y_pred)\n",
    "mse = mean_squared_error(y_test, y_pred)\n",
    "r2 = r2_score(y_test, y_pred)\n",
    "\n",
    "print(f\"Mean Absolute Error: {mae}\")\n",
    "print(f\"Mean Squared Error: {mse}\")\n",
    "print(f\"R² Score: {r2}\")\n"
   ]
  },
  {
   "cell_type": "code",
   "execution_count": null,
   "id": "59f79ca5",
   "metadata": {
    "execution": {
     "iopub.execute_input": "2024-01-09T23:29:02.891464Z",
     "iopub.status.busy": "2024-01-09T23:29:02.889604Z",
     "iopub.status.idle": "2024-01-09T23:29:03.287680Z",
     "shell.execute_reply": "2024-01-09T23:29:03.286580Z"
    },
    "papermill": {
     "duration": 0.4155,
     "end_time": "2024-01-09T23:29:03.290399",
     "exception": false,
     "start_time": "2024-01-09T23:29:02.874899",
     "status": "completed"
    },
    "tags": []
   },
   "outputs": [],
   "source": [
    "feature_importances = regressor.feature_importances_\n",
    "\n",
    "# Creating a DataFrame to display feature importances\n",
    "features = X.columns\n",
    "importances_df = pd.DataFrame({'Feature': features, 'Importance': feature_importances})\n",
    "\n",
    "# Sorting the DataFrame by importance for better visualization\n",
    "importances_df = importances_df.sort_values(by='Importance', ascending=False)\n",
    "\n",
    "# Print the DataFrame\n",
    "print(importances_df)\n",
    "\n",
    "# Optional: Plotting the feature importances\n",
    "import matplotlib.pyplot as plt\n",
    "import seaborn as sns\n",
    "\n",
    "plt.figure(figsize=(10, 6))\n",
    "sns.barplot(x='Importance', y='Feature', data=importances_df)\n",
    "plt.title('Feature Importances')\n",
    "plt.xlabel('Importance')\n",
    "plt.ylabel('Feature')\n",
    "plt.show()"
   ]
  },
  {
   "cell_type": "code",
   "execution_count": null,
   "id": "c6ce5823",
   "metadata": {
    "execution": {
     "iopub.execute_input": "2024-01-09T23:29:03.319375Z",
     "iopub.status.busy": "2024-01-09T23:29:03.318509Z",
     "iopub.status.idle": "2024-01-09T23:29:03.622930Z",
     "shell.execute_reply": "2024-01-09T23:29:03.622013Z"
    },
    "papermill": {
     "duration": 0.3216,
     "end_time": "2024-01-09T23:29:03.625401",
     "exception": false,
     "start_time": "2024-01-09T23:29:03.303801",
     "status": "completed"
    },
    "tags": []
   },
   "outputs": [],
   "source": [
    "from sklearn.ensemble import GradientBoostingRegressor\n",
    "\n",
    "gb_regressor = GradientBoostingRegressor(random_state=42)\n",
    "\n",
    "gb_regressor.fit(X_train, y_train)\n",
    "\n",
    "y_pred_gb = gb_regressor.predict(X_test)\n",
    "\n",
    "mae_gb = mean_absolute_error(y_test, y_pred_gb)\n",
    "mse_gb = mean_squared_error(y_test, y_pred_gb)\n",
    "r2_gb = r2_score(y_test, y_pred_gb)\n",
    "\n",
    "print(f\"Mean Absolute Error (Gradient Boosting): {mae_gb}\")\n",
    "print(f\"Mean Squared Error (Gradient Boosting): {mse_gb}\")\n",
    "print(f\"R² Score (Gradient Boosting): {r2_gb}\")\n"
   ]
  },
  {
   "cell_type": "code",
   "execution_count": null,
   "id": "3b85d6a1",
   "metadata": {
    "execution": {
     "iopub.execute_input": "2024-01-09T23:29:03.654172Z",
     "iopub.status.busy": "2024-01-09T23:29:03.653173Z",
     "iopub.status.idle": "2024-01-09T23:29:03.674267Z",
     "shell.execute_reply": "2024-01-09T23:29:03.673147Z"
    },
    "papermill": {
     "duration": 0.037785,
     "end_time": "2024-01-09T23:29:03.676565",
     "exception": false,
     "start_time": "2024-01-09T23:29:03.638780",
     "status": "completed"
    },
    "tags": []
   },
   "outputs": [],
   "source": [
    "from sklearn.preprocessing import StandardScaler\n",
    "\n",
    "# Assuming df_predict_price is the DataFrame you're using and it's already encoded\n",
    "# Selecting the numerical columns for scaling\n",
    "numerical_columns = ['BEDS', 'BATH','PROPERTYSQFT']  # Adjust this list based on your actual numerical columns\n",
    "\n",
    "# Initializing the scaler\n",
    "scaler = StandardScaler()\n",
    "\n",
    "# Applying the scaler to the numerical columns\n",
    "df_predict_price[numerical_columns] = scaler.fit_transform(df_predict_price[numerical_columns])\n",
    "\n",
    "df_predict_price.head()\n"
   ]
  },
  {
   "cell_type": "code",
   "execution_count": null,
   "id": "e4b8ecd3",
   "metadata": {
    "execution": {
     "iopub.execute_input": "2024-01-09T23:29:03.706247Z",
     "iopub.status.busy": "2024-01-09T23:29:03.705327Z",
     "iopub.status.idle": "2024-01-09T23:30:25.473045Z",
     "shell.execute_reply": "2024-01-09T23:30:25.471878Z"
    },
    "papermill": {
     "duration": 81.797832,
     "end_time": "2024-01-09T23:30:25.488179",
     "exception": false,
     "start_time": "2024-01-09T23:29:03.690347",
     "status": "completed"
    },
    "tags": []
   },
   "outputs": [],
   "source": [
    "from sklearn.model_selection import train_test_split, GridSearchCV\n",
    "from sklearn.ensemble import GradientBoostingRegressor\n",
    "from sklearn.metrics import mean_squared_error, r2_score\n",
    "\n",
    "X = df_predict_price.drop('PRICE', axis=1)\n",
    "y = df_predict_price['PRICE']\n",
    "X_train, X_test, y_train, y_test = train_test_split(X, y, test_size=0.2, random_state=42)\n",
    "\n",
    "# Initialize the Gradient Boosting Regressor\n",
    "gb_regressor = GradientBoostingRegressor(random_state=42)\n",
    "\n",
    "# Hyperparameter Grid\n",
    "param_grid = {\n",
    "    'n_estimators': [100, 200, 300],\n",
    "    'learning_rate': [0.01, 0.1, 0.2],\n",
    "    'max_depth': [3, 4, 5]\n",
    "}\n",
    "\n",
    "# Grid Search with Cross-Validation\n",
    "grid_search = GridSearchCV(gb_regressor, param_grid, cv=5, scoring='r2')\n",
    "grid_search.fit(X_train, y_train)\n",
    "\n",
    "# Best Parameters\n",
    "print(\"Best parameters:\", grid_search.best_params_)\n",
    "\n",
    "# Best Model\n",
    "best_model = grid_search.best_estimator_\n",
    "\n",
    "# Predictions\n",
    "y_pred = best_model.predict(X_test)\n",
    "\n",
    "# Evaluation\n",
    "mse = mean_squared_error(y_test, y_pred)\n",
    "r2 = r2_score(y_test, y_pred)\n",
    "\n",
    "print(f\"Mean Squared Error: {mse}\")\n",
    "print(f\"R² Score: {r2}\")"
   ]
  },
  {
   "cell_type": "code",
   "execution_count": null,
   "id": "e8f50a6d",
   "metadata": {},
   "outputs": [],
   "source": [
    "# Assuming this part comes after your model has made predictions\n",
    "from lime.lime_tabular import LimeTabularExplainer\n",
    "\n",
    "# Initialize the explainer\n",
    "explainer = LimeTabularExplainer(training_data=X_train.values,\n",
    "                                 feature_names=X.columns.tolist(),\n",
    "                                 class_names=['Price'],\n",
    "                                 mode='regression')\n",
    "\n",
    "# Select an instance to explain\n",
    "instance_index = 0  # Example index, choose appropriately\n",
    "instance = X_test.iloc[instance_index]\n",
    "\n",
    "# Generate explanation\n",
    "exp = explainer.explain_instance(data_row=instance, predict_fn=best_model.predict)\n",
    "\n",
    "# Visualize the explanation\n",
    "exp.show_in_notebook(show_table=True)\n"
   ]
  },
  {
   "cell_type": "code",
   "execution_count": null,
   "id": "16180a14",
   "metadata": {
    "execution": {
     "iopub.execute_input": "2024-01-09T23:30:25.518100Z",
     "iopub.status.busy": "2024-01-09T23:30:25.516898Z",
     "iopub.status.idle": "2024-01-09T23:30:25.814105Z",
     "shell.execute_reply": "2024-01-09T23:30:25.812805Z"
    },
    "papermill": {
     "duration": 0.314629,
     "end_time": "2024-01-09T23:30:25.816611",
     "exception": false,
     "start_time": "2024-01-09T23:30:25.501982",
     "status": "completed"
    },
    "tags": []
   },
   "outputs": [],
   "source": [
    "gb_regressor = GradientBoostingRegressor(random_state=42)\n",
    "\n",
    "gb_regressor.fit(X_train, y_train)\n",
    "\n",
    "y_pred_gb = gb_regressor.predict(X_test)\n",
    "\n",
    "mae_gb = mean_absolute_error(y_test, y_pred_gb)\n",
    "mse_gb = mean_squared_error(y_test, y_pred_gb)\n",
    "r2_gb = r2_score(y_test, y_pred_gb)\n",
    "\n",
    "print(f\"Mean Absolute Error (Gradient Boosting): {mae_gb}\")\n",
    "print(f\"Mean Squared Error (Gradient Boosting): {mse_gb}\")\n",
    "print(f\"R² Score (Gradient Boosting): {r2_gb}\")\n"
   ]
  }
 ],
 "metadata": {
  "kaggle": {
   "accelerator": "none",
   "dataSources": [
    {
     "datasetId": 4269029,
     "sourceId": 7351086,
     "sourceType": "datasetVersion"
    }
   ],
   "dockerImageVersionId": 30626,
   "isGpuEnabled": false,
   "isInternetEnabled": true,
   "language": "python",
   "sourceType": "notebook"
  },
  "kernelspec": {
   "display_name": "Python 3",
   "language": "python",
   "name": "python3"
  },
  "language_info": {
   "codemirror_mode": {
    "name": "ipython",
    "version": 3
   },
   "file_extension": ".py",
   "mimetype": "text/x-python",
   "name": "python",
   "nbconvert_exporter": "python",
   "pygments_lexer": "ipython3",
   "version": "3.10.11"
  },
  "papermill": {
   "default_parameters": {},
   "duration": 95.593332,
   "end_time": "2024-01-09T23:30:26.551586",
   "environment_variables": {},
   "exception": null,
   "input_path": "__notebook__.ipynb",
   "output_path": "__notebook__.ipynb",
   "parameters": {},
   "start_time": "2024-01-09T23:28:50.958254",
   "version": "2.4.0"
  }
 },
 "nbformat": 4,
 "nbformat_minor": 5
}
